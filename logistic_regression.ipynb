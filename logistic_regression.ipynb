{
 "cells": [
  {
   "cell_type": "code",
   "execution_count": null,
   "metadata": {},
   "outputs": [
    {
     "ename": "NameError",
     "evalue": "name 'np' is not defined",
     "output_type": "error",
     "traceback": [
      "\u001b[0;31m---------------------------------------------------------------------------\u001b[0m",
      "\u001b[0;31mNameError\u001b[0m                                 Traceback (most recent call last)",
      "Cell \u001b[0;32mIn[1], line 10\u001b[0m\n\u001b[1;32m      7\u001b[0m df \u001b[38;5;241m=\u001b[39m pd\u001b[38;5;241m.\u001b[39mread_csv(\u001b[38;5;124m\"\u001b[39m\u001b[38;5;124mpca_transformed_output.csv\u001b[39m\u001b[38;5;124m\"\u001b[39m)\n\u001b[1;32m      9\u001b[0m X \u001b[38;5;241m=\u001b[39m df\u001b[38;5;241m.\u001b[39mdrop(columns\u001b[38;5;241m=\u001b[39m[\u001b[38;5;124m\"\u001b[39m\u001b[38;5;124mlabel\u001b[39m\u001b[38;5;124m\"\u001b[39m], axis\u001b[38;5;241m=\u001b[39m\u001b[38;5;241m1\u001b[39m)\n\u001b[0;32m---> 10\u001b[0m y \u001b[38;5;241m=\u001b[39m \u001b[43mnp\u001b[49m\u001b[38;5;241m.\u001b[39mravel(df[[\u001b[38;5;124m\"\u001b[39m\u001b[38;5;124mlabel\u001b[39m\u001b[38;5;124m\"\u001b[39m]])\n\u001b[1;32m     12\u001b[0m X_train, X_test, y_train, y_test \u001b[38;5;241m=\u001b[39m train_test_split(X, y, test_size\u001b[38;5;241m=\u001b[39m\u001b[38;5;241m0.2\u001b[39m, random_state\u001b[38;5;241m=\u001b[39m\u001b[38;5;241m42\u001b[39m)\n\u001b[1;32m     14\u001b[0m log_reg \u001b[38;5;241m=\u001b[39m LogisticRegression(max_iter\u001b[38;5;241m=\u001b[39m\u001b[38;5;241m1000\u001b[39m, solver\u001b[38;5;241m=\u001b[39m\u001b[38;5;124m'\u001b[39m\u001b[38;5;124mliblinear\u001b[39m\u001b[38;5;124m'\u001b[39m)\n",
      "\u001b[0;31mNameError\u001b[0m: name 'np' is not defined"
     ]
    }
   ],
   "source": [
    "# import pandas as pd\n",
    "# import matplotlib.pyplot as plt\n",
    "# from sklearn.model_selection import train_test_split, cross_val_score\n",
    "# from sklearn.linear_model import LogisticRegression\n",
    "# from sklearn.metrics import classification_report\n",
    "\n",
    "# df = pd.read_csv(\"pca_transformed_output.csv\")\n",
    "\n",
    "# X = df.drop(columns=[\"label\"], axis=1)\n",
    "# y = np.ravel(df[[\"label\"]])\n",
    "\n",
    "# X_train, X_test, y_train, y_test = train_test_split(X, y, test_size=0.2, random_state=42)\n",
    "\n",
    "# log_reg = LogisticRegression(max_iter=1000, solver='liblinear')\n",
    "\n",
    "# cv_scores = cross_val_score(log_reg, X_train, y_train, cv=5, scoring='accuracy')\n",
    "# print(f\"Cross-Validation Scores: {cv_scores}\")\n",
    "# print(f\"Mean CV Score: {cv_scores.mean()}\")\n",
    "\n",
    "# plt.figure(figsize=(6, 5))\n",
    "# plt.boxplot(cv_scores, vert=False, patch_artist=True, boxprops=dict(facecolor='skyblue', color='black'))\n",
    "# plt.axvline(x=cv_scores.mean(), color='red', linestyle='--', label='Mean Accuracy')\n",
    "# plt.title('Cross-Validation Accuracy Scores')\n",
    "# plt.xlabel('Accuracy')\n",
    "# plt.legend()\n",
    "# plt.show()\n",
    "\n",
    "# log_reg.fit(X_train, y_train)"
   ]
  },
  {
   "cell_type": "code",
   "execution_count": 1,
   "metadata": {},
   "outputs": [
    {
     "data": {
      "text/html": [
       "<div>\n",
       "<style scoped>\n",
       "    .dataframe tbody tr th:only-of-type {\n",
       "        vertical-align: middle;\n",
       "    }\n",
       "\n",
       "    .dataframe tbody tr th {\n",
       "        vertical-align: top;\n",
       "    }\n",
       "\n",
       "    .dataframe thead th {\n",
       "        text-align: right;\n",
       "    }\n",
       "</style>\n",
       "<table border=\"1\" class=\"dataframe\">\n",
       "  <thead>\n",
       "    <tr style=\"text-align: right;\">\n",
       "      <th></th>\n",
       "      <th>PC1</th>\n",
       "      <th>PC2</th>\n",
       "      <th>PC3</th>\n",
       "      <th>PC4</th>\n",
       "      <th>PC5</th>\n",
       "      <th>label</th>\n",
       "    </tr>\n",
       "  </thead>\n",
       "  <tbody>\n",
       "    <tr>\n",
       "      <th>0</th>\n",
       "      <td>-2.260593</td>\n",
       "      <td>-0.344510</td>\n",
       "      <td>-1.609809</td>\n",
       "      <td>-1.053710</td>\n",
       "      <td>0.947905</td>\n",
       "      <td>0</td>\n",
       "    </tr>\n",
       "    <tr>\n",
       "      <th>1</th>\n",
       "      <td>-0.133474</td>\n",
       "      <td>3.105938</td>\n",
       "      <td>1.462322</td>\n",
       "      <td>0.828849</td>\n",
       "      <td>-1.380897</td>\n",
       "      <td>0</td>\n",
       "    </tr>\n",
       "    <tr>\n",
       "      <th>2</th>\n",
       "      <td>-1.977600</td>\n",
       "      <td>-0.341556</td>\n",
       "      <td>-1.687737</td>\n",
       "      <td>-1.246947</td>\n",
       "      <td>1.309119</td>\n",
       "      <td>0</td>\n",
       "    </tr>\n",
       "    <tr>\n",
       "      <th>3</th>\n",
       "      <td>-1.479357</td>\n",
       "      <td>0.897614</td>\n",
       "      <td>-0.858482</td>\n",
       "      <td>1.035689</td>\n",
       "      <td>-0.989909</td>\n",
       "      <td>0</td>\n",
       "    </tr>\n",
       "    <tr>\n",
       "      <th>4</th>\n",
       "      <td>-1.680400</td>\n",
       "      <td>2.221787</td>\n",
       "      <td>-1.015449</td>\n",
       "      <td>2.698644</td>\n",
       "      <td>1.534467</td>\n",
       "      <td>1</td>\n",
       "    </tr>\n",
       "  </tbody>\n",
       "</table>\n",
       "</div>"
      ],
      "text/plain": [
       "        PC1       PC2       PC3       PC4       PC5  label\n",
       "0 -2.260593 -0.344510 -1.609809 -1.053710  0.947905      0\n",
       "1 -0.133474  3.105938  1.462322  0.828849 -1.380897      0\n",
       "2 -1.977600 -0.341556 -1.687737 -1.246947  1.309119      0\n",
       "3 -1.479357  0.897614 -0.858482  1.035689 -0.989909      0\n",
       "4 -1.680400  2.221787 -1.015449  2.698644  1.534467      1"
      ]
     },
     "metadata": {},
     "output_type": "display_data"
    },
    {
     "name": "stdout",
     "output_type": "stream",
     "text": [
      "label\n",
      "0    4132\n",
      "1    4128\n",
      "Name: count, dtype: int64\n"
     ]
    }
   ],
   "source": [
    "import pandas as pd \n",
    "import numpy as np\n",
    "from IPython.display import display\n",
    "\n",
    "df = pd.read_csv('pca_transformed_output.csv')\n",
    "display(df.head())\n",
    "\n",
    "print(df['label'].value_counts())"
   ]
  },
  {
   "cell_type": "markdown",
   "metadata": {},
   "source": [
    "#### **Logistic Regression Model**"
   ]
  },
  {
   "cell_type": "code",
   "execution_count": 10,
   "metadata": {},
   "outputs": [
    {
     "name": "stdout",
     "output_type": "stream",
     "text": [
      "Average Precision: 0.7920\n",
      "Average Recall: 0.7912\n",
      "Average F1 Score: 0.7910\n",
      "Average Accuracy: 0.7912\n"
     ]
    },
    {
     "data": {
      "image/png": "[encoded data removed]",
      "text/plain": [
       "<Figure size 640x480 with 2 Axes>"
      ]
     },
     "metadata": {},
     "output_type": "display_data"
    }
   ],
   "source": [
    "import matplotlib.pyplot as plt\n",
    "import seaborn as sns\n",
    "from sklearn.model_selection import KFold\n",
    "from sklearn.linear_model import LogisticRegression\n",
    "from sklearn.metrics import precision_score, recall_score, f1_score, accuracy_score, confusion_matrix, ConfusionMatrixDisplay\n",
    "\n",
    "k = 5\n",
    "kf = KFold(n_splits =  k, shuffle=True, random_state=42)\n",
    "\n",
    "X = df.drop(columns = ['label'])\n",
    "y = df[['label']]\n",
    "feature_names = X.columns\n",
    "\n",
    "logistic_regression_model = LogisticRegression(random_state=42)\n",
    "\n",
    "precision_list, recall_list, f1_list, accuracy_list, confusion_matrices_list = [], [], [], [], []\n",
    "\n",
    "y = np.ravel(y)\n",
    "\n",
    "for train_index, test_index in kf.split(X, y):\n",
    "    X_train, X_test = X.iloc[train_index], X.iloc[test_index]\n",
    "    y_train, y_test = y[train_index], y[test_index]\n",
    "\n",
    "    logistic_regression_model.fit(X_train, y_train)\n",
    "    predicted_values = logistic_regression_model.predict(X_test)\n",
    "\n",
    "    precision_list.append(precision_score(y_test, predicted_values, average='weighted'))\n",
    "    recall_list.append(recall_score(y_test, predicted_values, average='weighted'))\n",
    "    f1_list.append(f1_score(y_test, predicted_values, average='weighted'))\n",
    "    accuracy_list.append(accuracy_score(y_test, predicted_values))\n",
    "    confusion_matrices_list.append(confusion_matrix(y_test, predicted_values))\n",
    "\n",
    "print(f\"Average Precision: {np.mean(precision_list):.4f}\")\n",
    "print(f\"Average Recall: {np.mean(recall_list):.4f}\")\n",
    "print(f\"Average F1 Score: {np.mean(f1_list):.4f}\")\n",
    "print(f\"Average Accuracy: {np.mean(accuracy_list):.4f}\")\n",
    "\n",
    "aggregate_conf_matrix = sum(confusion_matrices_list)\n",
    "average_conf_matrix = aggregate_conf_matrix // 5\n",
    "\n",
    "ConfusionMatrixDisplay(confusion_matrix=average_conf_matrix, display_labels=['No Churn', 'Churn']).plot(cmap = 'Blues')\n",
    "plt.title('Confusion Matrix for Logistic Regression Model')\n",
    "\n",
    "plt.show()"
   ]
  },
  {
   "cell_type": "code",
   "execution_count": null,
   "metadata": {},
   "outputs": [],
   "source": []
  }
 ],
 "metadata": {
  "kernelspec": {
   "display_name": "Python 3",
   "language": "python",
   "name": "python3"
  },
  "language_info": {
   "codemirror_mode": {
    "name": "ipython",
    "version": 3
   },
   "file_extension": ".py",
   "mimetype": "text/x-python",
   "name": "python",
   "nbconvert_exporter": "python",
   "pygments_lexer": "ipython3",
   "version": "3.11.4"
  }
 },
 "nbformat": 4,
 "nbformat_minor": 2
}
