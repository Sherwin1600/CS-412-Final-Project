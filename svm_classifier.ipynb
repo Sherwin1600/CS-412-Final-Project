{
 "cells": [
  {
   "cell_type": "code",
   "execution_count": 1,
   "metadata": {
    "id": "9OO5TYSpjUu4"
   },
   "outputs": [],
   "source": [
    "import pandas as pd\n",
    "import numpy as np"
   ]
  },
  {
   "cell_type": "code",
   "execution_count": 2,
   "metadata": {
    "colab": {
     "base_uri": "https://localhost:8080/",
     "height": 206
    },
    "id": "uixBaHrUkF8f",
    "outputId": "85ceeaad-bbb9-4860-cb83-3c3ddfaa296b"
   },
   "outputs": [
    {
     "data": {
      "text/html": [
       "<div>\n",
       "<style scoped>\n",
       "    .dataframe tbody tr th:only-of-type {\n",
       "        vertical-align: middle;\n",
       "    }\n",
       "\n",
       "    .dataframe tbody tr th {\n",
       "        vertical-align: top;\n",
       "    }\n",
       "\n",
       "    .dataframe thead th {\n",
       "        text-align: right;\n",
       "    }\n",
       "</style>\n",
       "<table border=\"1\" class=\"dataframe\">\n",
       "  <thead>\n",
       "    <tr style=\"text-align: right;\">\n",
       "      <th></th>\n",
       "      <th>PC1</th>\n",
       "      <th>PC2</th>\n",
       "      <th>PC3</th>\n",
       "      <th>PC4</th>\n",
       "      <th>PC5</th>\n",
       "      <th>label</th>\n",
       "    </tr>\n",
       "  </thead>\n",
       "  <tbody>\n",
       "    <tr>\n",
       "      <th>0</th>\n",
       "      <td>-2.260593</td>\n",
       "      <td>-0.344510</td>\n",
       "      <td>-1.609809</td>\n",
       "      <td>-1.053710</td>\n",
       "      <td>0.947905</td>\n",
       "      <td>0</td>\n",
       "    </tr>\n",
       "    <tr>\n",
       "      <th>1</th>\n",
       "      <td>-0.133474</td>\n",
       "      <td>3.105938</td>\n",
       "      <td>1.462322</td>\n",
       "      <td>0.828849</td>\n",
       "      <td>-1.380897</td>\n",
       "      <td>0</td>\n",
       "    </tr>\n",
       "    <tr>\n",
       "      <th>2</th>\n",
       "      <td>-1.977600</td>\n",
       "      <td>-0.341556</td>\n",
       "      <td>-1.687737</td>\n",
       "      <td>-1.246947</td>\n",
       "      <td>1.309119</td>\n",
       "      <td>0</td>\n",
       "    </tr>\n",
       "    <tr>\n",
       "      <th>3</th>\n",
       "      <td>-1.479357</td>\n",
       "      <td>0.897614</td>\n",
       "      <td>-0.858482</td>\n",
       "      <td>1.035689</td>\n",
       "      <td>-0.989909</td>\n",
       "      <td>0</td>\n",
       "    </tr>\n",
       "    <tr>\n",
       "      <th>4</th>\n",
       "      <td>-1.680400</td>\n",
       "      <td>2.221787</td>\n",
       "      <td>-1.015449</td>\n",
       "      <td>2.698644</td>\n",
       "      <td>1.534467</td>\n",
       "      <td>1</td>\n",
       "    </tr>\n",
       "  </tbody>\n",
       "</table>\n",
       "</div>"
      ],
      "text/plain": [
       "        PC1       PC2       PC3       PC4       PC5  label\n",
       "0 -2.260593 -0.344510 -1.609809 -1.053710  0.947905      0\n",
       "1 -0.133474  3.105938  1.462322  0.828849 -1.380897      0\n",
       "2 -1.977600 -0.341556 -1.687737 -1.246947  1.309119      0\n",
       "3 -1.479357  0.897614 -0.858482  1.035689 -0.989909      0\n",
       "4 -1.680400  2.221787 -1.015449  2.698644  1.534467      1"
      ]
     },
     "execution_count": 2,
     "metadata": {},
     "output_type": "execute_result"
    }
   ],
   "source": [
    "df = pd.read_csv(\"pca_transformed_output.csv\")\n",
    "df.head()"
   ]
  },
  {
   "cell_type": "code",
   "execution_count": 3,
   "metadata": {
    "colab": {
     "base_uri": "https://localhost:8080/"
    },
    "id": "KHuQk7TmkHX8",
    "outputId": "c28245ae-4d84-479d-fbaa-ebf9ba0f0315"
   },
   "outputs": [
    {
     "name": "stdout",
     "output_type": "stream",
     "text": [
      "Fitting 2 folds for each of 32 candidates, totalling 64 fits\n",
      "[CV] END ......................C=0.1, gamma=1, kernel=linear; total time=   0.2s\n",
      "[CV] END ......................C=0.1, gamma=1, kernel=linear; total time=   0.2s\n",
      "[CV] END .........................C=0.1, gamma=1, kernel=rbf; total time=   0.3s\n",
      "[CV] END .........................C=0.1, gamma=1, kernel=rbf; total time=   0.3s\n",
      "[CV] END ....................C=0.1, gamma=0.1, kernel=linear; total time=   0.2s\n",
      "[CV] END ....................C=0.1, gamma=0.1, kernel=linear; total time=   0.2s\n",
      "[CV] END .......................C=0.1, gamma=0.1, kernel=rbf; total time=   0.2s\n",
      "[CV] END .......................C=0.1, gamma=0.1, kernel=rbf; total time=   0.2s\n",
      "[CV] END ...................C=0.1, gamma=0.01, kernel=linear; total time=   0.2s\n",
      "[CV] END ...................C=0.1, gamma=0.01, kernel=linear; total time=   0.2s\n",
      "[CV] END ......................C=0.1, gamma=0.01, kernel=rbf; total time=   0.2s\n",
      "[CV] END ......................C=0.1, gamma=0.01, kernel=rbf; total time=   0.2s\n",
      "[CV] END ..................C=0.1, gamma=0.001, kernel=linear; total time=   0.2s\n",
      "[CV] END ..................C=0.1, gamma=0.001, kernel=linear; total time=   0.2s\n",
      "[CV] END .....................C=0.1, gamma=0.001, kernel=rbf; total time=   0.3s\n",
      "[CV] END .....................C=0.1, gamma=0.001, kernel=rbf; total time=   0.4s\n",
      "[CV] END ........................C=1, gamma=1, kernel=linear; total time=   0.3s\n",
      "[CV] END ........................C=1, gamma=1, kernel=linear; total time=   0.3s\n",
      "[CV] END ...........................C=1, gamma=1, kernel=rbf; total time=   0.3s\n",
      "[CV] END ...........................C=1, gamma=1, kernel=rbf; total time=   0.3s\n",
      "[CV] END ......................C=1, gamma=0.1, kernel=linear; total time=   0.3s\n",
      "[CV] END ......................C=1, gamma=0.1, kernel=linear; total time=   0.3s\n",
      "[CV] END .........................C=1, gamma=0.1, kernel=rbf; total time=   0.2s\n",
      "[CV] END .........................C=1, gamma=0.1, kernel=rbf; total time=   0.2s\n",
      "[CV] END .....................C=1, gamma=0.01, kernel=linear; total time=   0.4s\n",
      "[CV] END .....................C=1, gamma=0.01, kernel=linear; total time=   0.3s\n",
      "[CV] END ........................C=1, gamma=0.01, kernel=rbf; total time=   0.3s\n",
      "[CV] END ........................C=1, gamma=0.01, kernel=rbf; total time=   0.3s\n",
      "[CV] END ....................C=1, gamma=0.001, kernel=linear; total time=   0.3s\n",
      "[CV] END ....................C=1, gamma=0.001, kernel=linear; total time=   0.3s\n",
      "[CV] END .......................C=1, gamma=0.001, kernel=rbf; total time=   0.3s\n",
      "[CV] END .......................C=1, gamma=0.001, kernel=rbf; total time=   0.3s\n",
      "[CV] END .......................C=10, gamma=1, kernel=linear; total time=   0.9s\n",
      "[CV] END .......................C=10, gamma=1, kernel=linear; total time=   0.8s\n",
      "[CV] END ..........................C=10, gamma=1, kernel=rbf; total time=   0.5s\n",
      "[CV] END ..........................C=10, gamma=1, kernel=rbf; total time=   0.4s\n",
      "[CV] END .....................C=10, gamma=0.1, kernel=linear; total time=   0.8s\n",
      "[CV] END .....................C=10, gamma=0.1, kernel=linear; total time=   0.8s\n",
      "[CV] END ........................C=10, gamma=0.1, kernel=rbf; total time=   0.4s\n",
      "[CV] END ........................C=10, gamma=0.1, kernel=rbf; total time=   0.3s\n",
      "[CV] END ....................C=10, gamma=0.01, kernel=linear; total time=   0.7s\n",
      "[CV] END ....................C=10, gamma=0.01, kernel=linear; total time=   0.7s\n",
      "[CV] END .......................C=10, gamma=0.01, kernel=rbf; total time=   0.3s\n",
      "[CV] END .......................C=10, gamma=0.01, kernel=rbf; total time=   0.3s\n",
      "[CV] END ...................C=10, gamma=0.001, kernel=linear; total time=   0.7s\n",
      "[CV] END ...................C=10, gamma=0.001, kernel=linear; total time=   0.7s\n",
      "[CV] END ......................C=10, gamma=0.001, kernel=rbf; total time=   0.3s\n",
      "[CV] END ......................C=10, gamma=0.001, kernel=rbf; total time=   0.3s\n",
      "[CV] END ......................C=100, gamma=1, kernel=linear; total time=   3.1s\n",
      "[CV] END ......................C=100, gamma=1, kernel=linear; total time=   3.1s\n",
      "[CV] END .........................C=100, gamma=1, kernel=rbf; total time=   0.6s\n",
      "[CV] END .........................C=100, gamma=1, kernel=rbf; total time=   0.5s\n",
      "[CV] END ....................C=100, gamma=0.1, kernel=linear; total time=   3.5s\n",
      "[CV] END ....................C=100, gamma=0.1, kernel=linear; total time=   3.1s\n",
      "[CV] END .......................C=100, gamma=0.1, kernel=rbf; total time=   0.6s\n",
      "[CV] END .......................C=100, gamma=0.1, kernel=rbf; total time=   0.8s\n",
      "[CV] END ...................C=100, gamma=0.01, kernel=linear; total time=   3.6s\n",
      "[CV] END ...................C=100, gamma=0.01, kernel=linear; total time=   3.1s\n",
      "[CV] END ......................C=100, gamma=0.01, kernel=rbf; total time=   0.4s\n",
      "[CV] END ......................C=100, gamma=0.01, kernel=rbf; total time=   0.4s\n",
      "[CV] END ..................C=100, gamma=0.001, kernel=linear; total time=   3.4s\n",
      "[CV] END ..................C=100, gamma=0.001, kernel=linear; total time=   3.4s\n",
      "[CV] END .....................C=100, gamma=0.001, kernel=rbf; total time=   0.4s\n",
      "[CV] END .....................C=100, gamma=0.001, kernel=rbf; total time=   0.3s\n",
      "Best Parameters: {'C': 100, 'gamma': 0.01, 'kernel': 'rbf'}\n",
      "Best Score: 0.8073547215496368\n",
      "              precision    recall  f1-score   support\n",
      "\n",
      "           0       0.81      0.80      0.80       825\n",
      "           1       0.80      0.81      0.81       827\n",
      "\n",
      "    accuracy                           0.81      1652\n",
      "   macro avg       0.81      0.81      0.81      1652\n",
      "weighted avg       0.81      0.81      0.81      1652\n",
      "\n"
     ]
    }
   ],
   "source": [
    "from sklearn.model_selection import train_test_split, GridSearchCV\n",
    "from sklearn.svm import SVC\n",
    "from sklearn.metrics import classification_report\n",
    "from sklearn.metrics import classification_report, confusion_matrix\n",
    "\n",
    "# Step 1: Read the CSV file into a DataFrame\n",
    "df = pd.read_csv(\"pca_transformed_output.csv\")\n",
    "\n",
    "# Step 2: Split the data into features and target\n",
    "# Assuming the last column is the target variable\n",
    "X = df.drop(columns=[\"label\"], axis=1)\n",
    "y = np.ravel(df[[\"label\"]])\n",
    "\n",
    "# Step 3: Split the data into training and testing sets\n",
    "X_train, X_test, y_train, y_test = train_test_split(X, y, test_size=0.2,\n",
    "      random_state=42)\n",
    "\n",
    "# Step 4: Define the parameter grid for GridSearchCV\n",
    "param_grid = {\n",
    "    'C': [0.1, 1, 10, 100],\n",
    "    'gamma': [1, 0.1, 0.01, 0.001],\n",
    "    'kernel': ['linear', 'rbf']\n",
    "}\n",
    "\n",
    "# Step 5: Initialize the SVM classifier\n",
    "svc = SVC()\n",
    "\n",
    "# Step 6: Perform GridSearchCV\n",
    "grid_search = GridSearchCV(svc, param_grid, refit=True, verbose=2, cv=2)\n",
    "grid_search.fit(X_train, y_train)\n",
    "\n",
    "# Step 7: Print the best parameters and best score\n",
    "print(f\"Best Parameters: {grid_search.best_params_}\")\n",
    "print(f\"Best Score: {grid_search.best_score_}\")\n",
    "\n",
    "# Step 8: Evaluate the model on the test set\n",
    "y_pred = grid_search.predict(X_test)\n",
    "print(classification_report(y_test, y_pred))"
   ]
  },
  {
   "cell_type": "code",
   "execution_count": 4,
   "metadata": {},
   "outputs": [
    {
     "data": {
      "image/png": "[encoded data removed]",
      "text/plain": [
       "<Figure size 1000x700 with 2 Axes>"
      ]
     },
     "metadata": {},
     "output_type": "display_data"
    }
   ],
   "source": [
    "import matplotlib.pyplot as plt\n",
    "import seaborn as sns\n",
    "\n",
    "cm = confusion_matrix(y_test, y_pred)\n",
    "\n",
    "plt.figure(figsize=(10, 7))\n",
    "sns.heatmap(cm, annot=True, fmt='d', cmap='Blues')\n",
    "plt.xlabel('Predicted')\n",
    "plt.ylabel('Actual')\n",
    "plt.title('Confusion Matrix')\n",
    "plt.show()\n"
   ]
  }
 ],
 "metadata": {
  "colab": {
   "provenance": []
  },
  "kernelspec": {
   "display_name": "venv",
   "language": "python",
   "name": "python3"
  },
  "language_info": {
   "codemirror_mode": {
    "name": "ipython",
    "version": 3
   },
   "file_extension": ".py",
   "mimetype": "text/x-python",
   "name": "python",
   "nbconvert_exporter": "python",
   "pygments_lexer": "ipython3",
   "version": "3.9.2"
  }
 },
 "nbformat": 4,
 "nbformat_minor": 0
}
