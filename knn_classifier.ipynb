{
 "cells": [
  {
   "cell_type": "code",
   "execution_count": 5,
   "metadata": {
    "colab": {
     "base_uri": "https://localhost:8080/",
     "height": 206
    },
    "id": "SfdIobnTkCwu",
    "outputId": "f1d45255-f32d-4cd0-a037-acd0dffddf77"
   },
   "outputs": [
    {
     "data": {
      "text/html": [
       "<div>\n",
       "<style scoped>\n",
       "    .dataframe tbody tr th:only-of-type {\n",
       "        vertical-align: middle;\n",
       "    }\n",
       "\n",
       "    .dataframe tbody tr th {\n",
       "        vertical-align: top;\n",
       "    }\n",
       "\n",
       "    .dataframe thead th {\n",
       "        text-align: right;\n",
       "    }\n",
       "</style>\n",
       "<table border=\"1\" class=\"dataframe\">\n",
       "  <thead>\n",
       "    <tr style=\"text-align: right;\">\n",
       "      <th></th>\n",
       "      <th>PC1</th>\n",
       "      <th>PC2</th>\n",
       "      <th>PC3</th>\n",
       "      <th>PC4</th>\n",
       "      <th>PC5</th>\n",
       "      <th>label</th>\n",
       "    </tr>\n",
       "  </thead>\n",
       "  <tbody>\n",
       "    <tr>\n",
       "      <th>0</th>\n",
       "      <td>-2.260593</td>\n",
       "      <td>-0.344510</td>\n",
       "      <td>-1.609809</td>\n",
       "      <td>-1.053710</td>\n",
       "      <td>0.947905</td>\n",
       "      <td>0</td>\n",
       "    </tr>\n",
       "    <tr>\n",
       "      <th>1</th>\n",
       "      <td>-0.133474</td>\n",
       "      <td>3.105938</td>\n",
       "      <td>1.462322</td>\n",
       "      <td>0.828849</td>\n",
       "      <td>-1.380897</td>\n",
       "      <td>0</td>\n",
       "    </tr>\n",
       "    <tr>\n",
       "      <th>2</th>\n",
       "      <td>-1.977600</td>\n",
       "      <td>-0.341556</td>\n",
       "      <td>-1.687737</td>\n",
       "      <td>-1.246947</td>\n",
       "      <td>1.309119</td>\n",
       "      <td>0</td>\n",
       "    </tr>\n",
       "    <tr>\n",
       "      <th>3</th>\n",
       "      <td>-1.479357</td>\n",
       "      <td>0.897614</td>\n",
       "      <td>-0.858482</td>\n",
       "      <td>1.035689</td>\n",
       "      <td>-0.989909</td>\n",
       "      <td>0</td>\n",
       "    </tr>\n",
       "    <tr>\n",
       "      <th>4</th>\n",
       "      <td>-1.680400</td>\n",
       "      <td>2.221787</td>\n",
       "      <td>-1.015449</td>\n",
       "      <td>2.698644</td>\n",
       "      <td>1.534467</td>\n",
       "      <td>1</td>\n",
       "    </tr>\n",
       "  </tbody>\n",
       "</table>\n",
       "</div>"
      ],
      "text/plain": [
       "        PC1       PC2       PC3       PC4       PC5  label\n",
       "0 -2.260593 -0.344510 -1.609809 -1.053710  0.947905      0\n",
       "1 -0.133474  3.105938  1.462322  0.828849 -1.380897      0\n",
       "2 -1.977600 -0.341556 -1.687737 -1.246947  1.309119      0\n",
       "3 -1.479357  0.897614 -0.858482  1.035689 -0.989909      0\n",
       "4 -1.680400  2.221787 -1.015449  2.698644  1.534467      1"
      ]
     },
     "execution_count": 5,
     "metadata": {},
     "output_type": "execute_result"
    }
   ],
   "source": [
    "import pandas as pd\n",
    "df = pd.read_csv(\"pca_transformed_output.csv\")\n",
    "df.head()\n"
   ]
  },
  {
   "cell_type": "code",
   "execution_count": 6,
   "metadata": {
    "colab": {
     "base_uri": "https://localhost:8080/"
    },
    "id": "QO4yHJ5rl0nc",
    "outputId": "b26729f5-bc37-4848-843b-9a9db5c958e7"
   },
   "outputs": [
    {
     "name": "stdout",
     "output_type": "stream",
     "text": [
      "Fitting 2 folds for each of 24 candidates, totalling 48 fits\n",
      "[CV] END ...metric=euclidean, n_neighbors=3, weights=uniform; total time=   0.1s\n",
      "[CV] END ...metric=euclidean, n_neighbors=3, weights=uniform; total time=   0.1s\n",
      "[CV] END ..metric=euclidean, n_neighbors=3, weights=distance; total time=   0.0s\n",
      "[CV] END ..metric=euclidean, n_neighbors=3, weights=distance; total time=   0.0s\n",
      "[CV] END ...metric=euclidean, n_neighbors=5, weights=uniform; total time=   0.1s\n",
      "[CV] END ...metric=euclidean, n_neighbors=5, weights=uniform; total time=   0.1s\n",
      "[CV] END ..metric=euclidean, n_neighbors=5, weights=distance; total time=   0.0s\n",
      "[CV] END ..metric=euclidean, n_neighbors=5, weights=distance; total time=   0.0s\n",
      "[CV] END ...metric=euclidean, n_neighbors=7, weights=uniform; total time=   0.2s\n",
      "[CV] END ...metric=euclidean, n_neighbors=7, weights=uniform; total time=   0.1s\n",
      "[CV] END ..metric=euclidean, n_neighbors=7, weights=distance; total time=   0.0s\n",
      "[CV] END ..metric=euclidean, n_neighbors=7, weights=distance; total time=   0.0s\n",
      "[CV] END ...metric=euclidean, n_neighbors=9, weights=uniform; total time=   0.1s\n",
      "[CV] END ...metric=euclidean, n_neighbors=9, weights=uniform; total time=   0.1s\n",
      "[CV] END ..metric=euclidean, n_neighbors=9, weights=distance; total time=   0.0s\n",
      "[CV] END ..metric=euclidean, n_neighbors=9, weights=distance; total time=   0.0s\n",
      "[CV] END ...metric=manhattan, n_neighbors=3, weights=uniform; total time=   0.1s\n",
      "[CV] END ...metric=manhattan, n_neighbors=3, weights=uniform; total time=   0.1s\n",
      "[CV] END ..metric=manhattan, n_neighbors=3, weights=distance; total time=   0.0s\n",
      "[CV] END ..metric=manhattan, n_neighbors=3, weights=distance; total time=   0.0s\n",
      "[CV] END ...metric=manhattan, n_neighbors=5, weights=uniform; total time=   0.1s\n",
      "[CV] END ...metric=manhattan, n_neighbors=5, weights=uniform; total time=   0.1s\n",
      "[CV] END ..metric=manhattan, n_neighbors=5, weights=distance; total time=   0.0s\n",
      "[CV] END ..metric=manhattan, n_neighbors=5, weights=distance; total time=   0.0s\n",
      "[CV] END ...metric=manhattan, n_neighbors=7, weights=uniform; total time=   0.1s\n",
      "[CV] END ...metric=manhattan, n_neighbors=7, weights=uniform; total time=   0.1s\n",
      "[CV] END ..metric=manhattan, n_neighbors=7, weights=distance; total time=   0.0s\n",
      "[CV] END ..metric=manhattan, n_neighbors=7, weights=distance; total time=   0.0s\n",
      "[CV] END ...metric=manhattan, n_neighbors=9, weights=uniform; total time=   0.1s\n",
      "[CV] END ...metric=manhattan, n_neighbors=9, weights=uniform; total time=   0.1s\n",
      "[CV] END ..metric=manhattan, n_neighbors=9, weights=distance; total time=   0.0s\n",
      "[CV] END ..metric=manhattan, n_neighbors=9, weights=distance; total time=   0.0s\n",
      "[CV] END ...metric=minkowski, n_neighbors=3, weights=uniform; total time=   0.1s\n",
      "[CV] END ...metric=minkowski, n_neighbors=3, weights=uniform; total time=   0.1s\n",
      "[CV] END ..metric=minkowski, n_neighbors=3, weights=distance; total time=   0.0s\n",
      "[CV] END ..metric=minkowski, n_neighbors=3, weights=distance; total time=   0.0s\n",
      "[CV] END ...metric=minkowski, n_neighbors=5, weights=uniform; total time=   0.1s\n",
      "[CV] END ...metric=minkowski, n_neighbors=5, weights=uniform; total time=   0.1s\n",
      "[CV] END ..metric=minkowski, n_neighbors=5, weights=distance; total time=   0.0s\n",
      "[CV] END ..metric=minkowski, n_neighbors=5, weights=distance; total time=   0.0s\n",
      "[CV] END ...metric=minkowski, n_neighbors=7, weights=uniform; total time=   0.1s\n",
      "[CV] END ...metric=minkowski, n_neighbors=7, weights=uniform; total time=   0.2s\n",
      "[CV] END ..metric=minkowski, n_neighbors=7, weights=distance; total time=   0.0s\n",
      "[CV] END ..metric=minkowski, n_neighbors=7, weights=distance; total time=   0.0s\n",
      "[CV] END ...metric=minkowski, n_neighbors=9, weights=uniform; total time=   0.1s\n",
      "[CV] END ...metric=minkowski, n_neighbors=9, weights=uniform; total time=   0.1s\n",
      "[CV] END ..metric=minkowski, n_neighbors=9, weights=distance; total time=   0.0s\n",
      "[CV] END ..metric=minkowski, n_neighbors=9, weights=distance; total time=   0.0s\n",
      "Best Parameters: {'metric': 'euclidean', 'n_neighbors': 9, 'weights': 'uniform'}\n",
      "Best Score: 0.8017554479418887\n",
      "              precision    recall  f1-score   support\n",
      "\n",
      "           0       0.80      0.78      0.79       825\n",
      "           1       0.79      0.80      0.79       827\n",
      "\n",
      "    accuracy                           0.79      1652\n",
      "   macro avg       0.79      0.79      0.79      1652\n",
      "weighted avg       0.79      0.79      0.79      1652\n",
      "\n"
     ]
    }
   ],
   "source": [
    "from sklearn.model_selection import train_test_split, GridSearchCV\n",
    "from sklearn.neighbors import KNeighborsClassifier\n",
    "from sklearn.metrics import classification_report\n",
    "import pandas as pd\n",
    "\n",
    "# Step 1: Read the CSV file into a DataFrame\n",
    "df = pd.read_csv(\"pca_transformed_output.csv\")\n",
    "\n",
    "# Step 2: Split the data into features and target\n",
    "# Assuming the last column is the target variable\n",
    "X = df.iloc[:, :-1]\n",
    "y = df.iloc[:, -1]\n",
    "\n",
    "# Step 3: Split the data into training and testing sets\n",
    "X_train, X_test, y_train, y_test = train_test_split(X, y, test_size=0.2, random_state=42)\n",
    "\n",
    "# Step 4: Define the parameter grid for GridSearchCV\n",
    "param_grid = {\n",
    "    'n_neighbors': [3, 5, 7, 9],  # Number of neighbors\n",
    "    'weights': ['uniform', 'distance'],  # Weighting of neighbors\n",
    "    'metric': ['euclidean', 'manhattan', 'minkowski']  # Distance metric\n",
    "}\n",
    "\n",
    "# Step 5: Initialize the k-NN classifier\n",
    "knn = KNeighborsClassifier()\n",
    "\n",
    "# Step 6: Perform GridSearchCV\n",
    "grid_search = GridSearchCV(knn, param_grid, refit=True, verbose=2, cv=2)\n",
    "grid_search.fit(X_train, y_train)\n",
    "\n",
    "# Step 7: Print the best parameters and best score\n",
    "print(f\"Best Parameters: {grid_search.best_params_}\")\n",
    "print(f\"Best Score: {grid_search.best_score_}\")\n",
    "\n",
    "# Step 8: Evaluate the model on the test set\n",
    "y_pred = grid_search.predict(X_test)\n",
    "print(classification_report(y_test, y_pred))\n"
   ]
  },
  {
   "cell_type": "code",
   "execution_count": 7,
   "metadata": {
    "colab": {
     "base_uri": "https://localhost:8080/",
     "height": 1000
    },
    "id": "-SJl-W76mYQY",
    "outputId": "e0ff08ab-5548-488e-ede2-c6d38c6e8633"
   },
   "outputs": [
    {
     "data": {
      "image/png": "[encoded data removed]",
      "text/plain": [
       "<Figure size 640x480 with 2 Axes>"
      ]
     },
     "metadata": {},
     "output_type": "display_data"
    }
   ],
   "source": [
    "import matplotlib.pyplot as plt\n",
    "import seaborn as sns\n",
    "from sklearn.metrics import confusion_matrix, ConfusionMatrixDisplay\n",
    "\n",
    "# Step 2: Confusion Matrix\n",
    "cm = confusion_matrix(y_test, y_pred)\n",
    "disp = ConfusionMatrixDisplay(confusion_matrix=cm, display_labels=grid_search.classes_)\n",
    "disp.plot(cmap=\"Blues\")\n",
    "plt.title(\"Confusion Matrix\")\n",
    "plt.show()\n"
   ]
  }
 ],
 "metadata": {
  "colab": {
   "provenance": []
  },
  "kernelspec": {
   "display_name": "venv",
   "language": "python",
   "name": "python3"
  },
  "language_info": {
   "codemirror_mode": {
    "name": "ipython",
    "version": 3
   },
   "file_extension": ".py",
   "mimetype": "text/x-python",
   "name": "python",
   "nbconvert_exporter": "python",
   "pygments_lexer": "ipython3",
   "version": "3.9.2"
  }
 },
 "nbformat": 4,
 "nbformat_minor": 0
}
