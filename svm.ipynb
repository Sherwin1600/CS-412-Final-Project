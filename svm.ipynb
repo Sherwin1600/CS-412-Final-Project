{
 "cells": [
  {
   "cell_type": "code",
   "execution_count": 1,
   "metadata": {},
   "outputs": [],
   "source": [
    "import pandas as pd"
   ]
  },
  {
   "cell_type": "code",
   "execution_count": null,
   "metadata": {},
   "outputs": [
    {
     "data": {
      "text/html": [
       "<div>\n",
       "<style scoped>\n",
       "    .dataframe tbody tr th:only-of-type {\n",
       "        vertical-align: middle;\n",
       "    }\n",
       "\n",
       "    .dataframe tbody tr th {\n",
       "        vertical-align: top;\n",
       "    }\n",
       "\n",
       "    .dataframe thead th {\n",
       "        text-align: right;\n",
       "    }\n",
       "</style>\n",
       "<table border=\"1\" class=\"dataframe\">\n",
       "  <thead>\n",
       "    <tr style=\"text-align: right;\">\n",
       "      <th></th>\n",
       "      <th>PC1</th>\n",
       "      <th>PC2</th>\n",
       "      <th>PC3</th>\n",
       "      <th>PC4</th>\n",
       "      <th>PC5</th>\n",
       "    </tr>\n",
       "  </thead>\n",
       "  <tbody>\n",
       "    <tr>\n",
       "      <th>0</th>\n",
       "      <td>-2.032394</td>\n",
       "      <td>-1.940833</td>\n",
       "      <td>-2.920893</td>\n",
       "      <td>1.823003</td>\n",
       "      <td>-1.242805</td>\n",
       "    </tr>\n",
       "    <tr>\n",
       "      <th>1</th>\n",
       "      <td>-2.113285</td>\n",
       "      <td>1.149945</td>\n",
       "      <td>-0.508009</td>\n",
       "      <td>1.206858</td>\n",
       "      <td>0.390155</td>\n",
       "    </tr>\n",
       "    <tr>\n",
       "      <th>2</th>\n",
       "      <td>6.308554</td>\n",
       "      <td>0.292239</td>\n",
       "      <td>0.026216</td>\n",
       "      <td>-0.489533</td>\n",
       "      <td>0.653353</td>\n",
       "    </tr>\n",
       "    <tr>\n",
       "      <th>3</th>\n",
       "      <td>-2.046318</td>\n",
       "      <td>1.781729</td>\n",
       "      <td>-0.186375</td>\n",
       "      <td>1.015508</td>\n",
       "      <td>0.712101</td>\n",
       "    </tr>\n",
       "    <tr>\n",
       "      <th>4</th>\n",
       "      <td>6.214793</td>\n",
       "      <td>0.441817</td>\n",
       "      <td>-0.112234</td>\n",
       "      <td>-0.243980</td>\n",
       "      <td>0.261503</td>\n",
       "    </tr>\n",
       "  </tbody>\n",
       "</table>\n",
       "</div>"
      ],
      "text/plain": [
       "        PC1       PC2       PC3       PC4       PC5\n",
       "0 -2.032394 -1.940833 -2.920893  1.823003 -1.242805\n",
       "1 -2.113285  1.149945 -0.508009  1.206858  0.390155\n",
       "2  6.308554  0.292239  0.026216 -0.489533  0.653353\n",
       "3 -2.046318  1.781729 -0.186375  1.015508  0.712101\n",
       "4  6.214793  0.441817 -0.112234 -0.243980  0.261503"
      ]
     },
     "execution_count": 2,
     "metadata": {},
     "output_type": "execute_result"
    }
   ],
   "source": [
    "df = pd.read_csv(\"pca_transformed_output.csv\")\n",
    "df.head()"
   ]
  },
  {
   "cell_type": "code",
   "execution_count": null,
   "metadata": {},
   "outputs": [],
   "source": []
  }
 ],
 "metadata": {
  "kernelspec": {
   "display_name": "venv",
   "language": "python",
   "name": "python3"
  },
  "language_info": {
   "codemirror_mode": {
    "name": "ipython",
    "version": 3
   },
   "file_extension": ".py",
   "mimetype": "text/x-python",
   "name": "python",
   "nbconvert_exporter": "python",
   "pygments_lexer": "ipython3",
   "version": "3.9.2"
  }
 },
 "nbformat": 4,
 "nbformat_minor": 2
}
